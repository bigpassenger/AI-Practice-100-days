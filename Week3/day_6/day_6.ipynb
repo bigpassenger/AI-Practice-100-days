{
 "cells": [
  {
   "cell_type": "code",
   "execution_count": null,
   "id": "72c99ff5",
   "metadata": {},
   "outputs": [
    {
     "name": "stdout",
     "output_type": "stream",
     "text": [
      "Mean:  30.0\n",
      "30\n",
      "Mode:  10\n",
      "Variance:  200.0\n",
      "Standard Deviation:  14.142135623730951\n"
     ]
    }
   ],
   "source": [
    "\"\"\"\n",
    "Measures of Central Tendency and Dispersion\n",
    "\n",
    "Central Tendency\n",
    "\n",
    "Mean: The average value of a dataset\n",
    "\n",
    "Median: The middle value when data is sorted\n",
    "\n",
    "Mode: The most frequently occurring value\n",
    "\n",
    "Variance: The average squared deviation from the mean\n",
    "\n",
    "Standard Deviation: The square root of variance, indicating the\n",
    "spread of data.\n",
    "\"\"\"\n",
    "\n",
    "from statistics import mode\n",
    "data = [10, 20, 30, 40, 50]\n",
    "mean = sum(data)/len(data)\n",
    "print(\"Mean: \", mean)\n",
    "\n",
    "sorted_data = sorted(data)\n",
    "median = sorted_data[len(data) //2] if len(data) % 2 != 0 else (sorted_data[(len(data) // 2) -1] + sorted_data[(len(data) // 2) + 1]) / 2\n",
    "print(median)\n",
    "\n",
    "print(\"Mode: \", mode(data))\n",
    "\n",
    "\n",
    "\n",
    "variance = sum((x - mean) ** 2 for x in data) / len(data)\n",
    "print(\"Variance: \",variance)\n",
    "std_devi = variance ** 0.5\n",
    "print(\"Standard Deviation: \",std_devi)"
   ]
  },
  {
   "cell_type": "code",
   "execution_count": 8,
   "id": "fe420970",
   "metadata": {},
   "outputs": [
    {
     "data": {
      "text/plain": [
       "'\\n#  Hypothesis Testing — Student Cheat Sheet\\n\\n###  What is it?  \\nA method to decide if what you see in your **sample** is strong enough to make a claim about the **population**.  \\n\\n---\\n\\n##  Steps\\n\\n1. **State hypotheses**  \\n   - **H₀ (Null):** “Nothing changes / no effect.”  \\n   - **H₁ (Alternative):** “Something changes / there is an effect.”  \\n\\n2. **Choose significance level (α)**  \\n   - Usually 0.05 (5%).  \\n\\n3. **Collect data → compute test statistic**  \\n   - z-score, t-test, chi-square, etc.  \\n\\n4. **Find the p-value**  \\n   - The probability of seeing data this extreme **if H₀ were true**.  \\n\\n5. **Decision rule**  \\n   - If **p ≤ α** → Reject H₀ (evidence for H₁).  \\n   - If **p > α** → Fail to reject H₀ (not enough evidence).  \\n\\n---\\n\\n##  Key Errors\\n- **Type I Error (α):** False alarm (reject a true H₀).  \\n- **Type II Error (β):** Missed detection (don’t reject a false H₀).  \\n- **Power (1–β):** Ability to correctly reject a false H₀.  \\n\\n---\\n\\n##  Examples\\n\\n###  Example 1 — Coin Toss  \\nYou suspect a coin is **biased**.  \\n- **H₀:** The coin is fair (p = 0.5).  \\n- **H₁:** The coin is not fair (p ≠ 0.5).  \\n- You toss 20 times and get **16 heads**.  \\n- Compute p-value: How likely is 16 or more heads if the coin were fair?  \\n- If p ≤ 0.05 → conclude the coin is probably biased.  \\n\\n---\\n\\n###  Example 2 — Clinical Trial  \\nA company tests a new drug for lowering blood pressure.  \\n- **H₀:** The new drug has **no effect** (mean drop = 0).  \\n- **H₁:** The drug **does lower** blood pressure (mean drop < 0).  \\n- Collect sample of patients, measure average drop.  \\n- Run a t-test → compute p-value.  \\n- If p ≤ 0.05 → evidence the drug works.  \\n- If p > 0.05 → can’t conclude it works.  \\n'"
      ]
     },
     "execution_count": 8,
     "metadata": {},
     "output_type": "execute_result"
    }
   ],
   "source": [
    "\"\"\"\n",
    "#  Hypothesis Testing — Student Cheat Sheet\n",
    "\n",
    "###  What is it?  \n",
    "A method to decide if what you see in your **sample** is strong enough to make a claim about the **population**.  \n",
    "\n",
    "---\n",
    "\n",
    "##  Steps\n",
    "\n",
    "1. **State hypotheses**  \n",
    "   - **H₀ (Null):** “Nothing changes / no effect.”  \n",
    "   - **H₁ (Alternative):** “Something changes / there is an effect.”  \n",
    "\n",
    "2. **Choose significance level (α)**  \n",
    "   - Usually 0.05 (5%).  \n",
    "\n",
    "3. **Collect data → compute test statistic**  \n",
    "   - z-score, t-test, chi-square, etc.  \n",
    "\n",
    "4. **Find the p-value**  \n",
    "   - The probability of seeing data this extreme **if H₀ were true**.  \n",
    "\n",
    "5. **Decision rule**  \n",
    "   - If **p ≤ α** → Reject H₀ (evidence for H₁).  \n",
    "   - If **p > α** → Fail to reject H₀ (not enough evidence).  \n",
    "\n",
    "---\n",
    "\n",
    "##  Key Errors\n",
    "- **Type I Error (α):** False alarm (reject a true H₀).  \n",
    "- **Type II Error (β):** Missed detection (don’t reject a false H₀).  \n",
    "- **Power (1–β):** Ability to correctly reject a false H₀.  \n",
    "\n",
    "---\n",
    "\n",
    "##  Examples\n",
    "\n",
    "###  Example 1 — Coin Toss  \n",
    "You suspect a coin is **biased**.  \n",
    "- **H₀:** The coin is fair (p = 0.5).  \n",
    "- **H₁:** The coin is not fair (p ≠ 0.5).  \n",
    "- You toss 20 times and get **16 heads**.  \n",
    "- Compute p-value: How likely is 16 or more heads if the coin were fair?  \n",
    "- If p ≤ 0.05 → conclude the coin is probably biased.  \n",
    "\n",
    "---\n",
    "\n",
    "###  Example 2 — Clinical Trial  \n",
    "A company tests a new drug for lowering blood pressure.  \n",
    "- **H₀:** The new drug has **no effect** (mean drop = 0).  \n",
    "- **H₁:** The drug **does lower** blood pressure (mean drop < 0).  \n",
    "- Collect sample of patients, measure average drop.  \n",
    "- Run a t-test → compute p-value.  \n",
    "- If p ≤ 0.05 → evidence the drug works.  \n",
    "- If p > 0.05 → can’t conclude it works.  \n",
    "\"\"\"\n"
   ]
  },
  {
   "cell_type": "code",
   "execution_count": 9,
   "id": "c36d851c",
   "metadata": {},
   "outputs": [
    {
     "name": "stdout",
     "output_type": "stream",
     "text": [
      "Confidence Interval:  (17.603871572139955, 42.39612842786005)\n"
     ]
    }
   ],
   "source": [
    "\"\"\"\n",
    "Confidence Intervals and Statistical Significance\n",
    "\n",
    "Confidence Interval:\n",
    "A range of values, derived from sample statistics, that is likely to contain\n",
    "the true value of an unknown population parameter with a certain level of confidence.\n",
    "\n",
    "Key Components:\n",
    "- x̄ (x-bar): Sample mean - the average of the sample data\n",
    "- z: Z-score - the number of standard deviations from the mean\n",
    "- s: Standard deviation - measure of data dispersion\n",
    "- n: Sample size - number of observations in the sample\n",
    "\n",
    "Common Formula for Confidence Interval:\n",
    "CI = x̄ ± z*(s/√n)\n",
    "\n",
    "Where:\n",
    "- The term z*(s/√n) is called the margin of error\n",
    "- Common confidence levels and their z-scores:\n",
    "  - 90% confidence: z = 1.645\n",
    "  - 95% confidence: z = 1.96\n",
    "  - 99% confidence: z = 2.576\n",
    "\n",
    "Statistical Significance:\n",
    "A result is statistically significant if it's unlikely to have occurred by chance alone,\n",
    "typically measured using a p-value threshold (usually p < 0.05).\n",
    "\n",
    "Relationship:\n",
    "If a confidence interval does not include the null hypothesis value (often zero),\n",
    "the result is considered statistically significant.\n",
    "\"\"\"\n",
    "import scipy.stats as stats\n",
    "sample_mean = mean\n",
    "z_score = 1.96\n",
    "\n",
    "ci = (sample_mean - z_score * (std_devi / len(data) ** 0.5),\n",
    "      sample_mean + z_score * (std_devi / len(data) ** 0.5))\n",
    "print(\"Confidence Interval: \",ci)"
   ]
  },
  {
   "cell_type": "code",
   "execution_count": null,
   "id": "c199c1c6",
   "metadata": {},
   "outputs": [],
   "source": [
    "#################################### Exercise 1 ####################################\n",
    "import numpy as np\n",
    "data = [1, 2, 3, 4, 5, 4, 4, 6, 7, 8, 9]\n",
    "mean =  np.mean(data)\n",
    "variance = np.var(data)\n",
    "std_devi = np.std(data)\n",
    "print(\"Mean: \", mean)"
   ]
  },
  {
   "cell_type": "code",
   "execution_count": 11,
   "id": "bcfa0f4c",
   "metadata": {},
   "outputs": [
    {
     "name": "stdout",
     "output_type": "stream",
     "text": [
      "T_Statitic:  1.272792206135785\n",
      "P-Value:  0.23883314363035274\n",
      "Failt to reject the null hypothesis: no significant difference\n"
     ]
    }
   ],
   "source": [
    "#################################### Exercise 2 ####################################\n",
    "import numpy as np\n",
    "from scipy.stats import ttest_ind\n",
    "\n",
    "group1 = [2.1, 2.5, 2.8, 3.0, 3.2]\n",
    "group2 = [1.8, 2.0, 2.4, 2.7, 2.9]\n",
    "\n",
    "t_stat, p_value = ttest_ind(group1,group2)\n",
    "\n",
    "print(\"T_Statitic: \", t_stat)\n",
    "print(\"P-Value: \", p_value)\n",
    "\n",
    "alpha = 0.05\n",
    "\n",
    "if p_value < alpha:\n",
    "    print(\"Reject the null hypothesis: significant difference\")\n",
    "\n",
    "else:\n",
    "    print(\"Failt to reject the null hypothesis: no significant difference\")\n"
   ]
  },
  {
   "cell_type": "code",
   "execution_count": 19,
   "id": "158b5c9a",
   "metadata": {},
   "outputs": [
    {
     "name": "stdout",
     "output_type": "stream",
     "text": [
      "Variance:  5.6033057851239665\n",
      "Standard Deviation:  2.3671302847802793\n"
     ]
    },
    {
     "data": {
      "image/png": "[encoded data removed]",
      "text/plain": [
       "<Figure size 640x480 with 1 Axes>"
      ]
     },
     "metadata": {},
     "output_type": "display_data"
    }
   ],
   "source": [
    "#################################### Exercise 3 ####################################\n",
    "import numpy as np\n",
    "import matplotlib.pyplot as plt\n",
    "\n",
    "data = [1, 2, 3, 4, 5, 4, 4, 6, 7, 8, 9]\n",
    "\n",
    "mean = np.mean(data)\n",
    "sorted_data = sorted(data)\n",
    "median = sorted_data[len(data) //2] if len(data) % 2 != 0 else (sorted_data[(len(data) // 2) -1] + sorted_data[(len(data) // 2) + 1]) / 2\n",
    "mode_data = mode(data)\n",
    "# print(median)\n",
    "\n",
    "\n",
    "\n",
    "variance = sum((x-mean)**2 for x in data)/ len(data)\n",
    "print(\"Variance: \",variance)\n",
    "std_devi = variance ** 0.5\n",
    "print(\"Standard Deviation: \",std_devi)\n",
    "plt.hist(data, bins=30, alpha=0.7, color='lightblue', \n",
    "         edgecolor='black', label='Data Distribution')\n",
    "\n",
    "\n",
    "plt.show()"
   ]
  },
  {
   "cell_type": "code",
   "execution_count": null,
   "id": "314910ce",
   "metadata": {},
   "outputs": [],
   "source": []
  }
 ],
 "metadata": {
  "kernelspec": {
   "display_name": "base",
   "language": "python",
   "name": "python3"
  },
  "language_info": {
   "codemirror_mode": {
    "name": "ipython",
    "version": 3
   },
   "file_extension": ".py",
   "mimetype": "text/x-python",
   "name": "python",
   "nbconvert_exporter": "python",
   "pygments_lexer": "ipython3",
   "version": "3.12.7"
  }
 },
 "nbformat": 4,
 "nbformat_minor": 5
}
