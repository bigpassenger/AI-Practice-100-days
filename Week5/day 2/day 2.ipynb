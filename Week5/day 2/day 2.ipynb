{
 "cells": [
  {
   "cell_type": "markdown",
   "id": "800a3441",
   "metadata": {},
   "source": [
    "# 🧠 Key Characteristics of Supervised Learning\n",
    "\n",
    "---\n",
    "\n",
    "## 🏷 Labeled Data\n",
    "Supervised learning **requires a dataset with labeled examples**. Each data point includes:  \n",
    "- **Inputs (features)** – The information used to make predictions.  \n",
    "- **Outputs (labels)** – The correct answers provided for training.  \n",
    "\n",
    "📌 **Example**:  \n",
    "\n",
    "| Inputs (Features)      | Output (Label)     |  \n",
    "|------------------------|-------------------|  \n",
    "| Email text & metadata  | Spam / Not Spam    |  \n",
    "| House size & location  | Price (in $)      |  \n",
    "\n",
    "---\n",
    "\n",
    "## 🎯 Objective\n",
    "The goal of supervised learning is to **minimize the error** between:  \n",
    "- 🔮 **Predicted output** (what the model guesses)  \n",
    "- ✅ **Actual output** (the correct answer)  \n",
    "\n",
    "This is done by adjusting the model’s parameters during training until predictions become as accurate as possible.\n",
    "\n",
    "---\n",
    "\n",
    "## 🔢 Types of Supervised Learning\n",
    "\n",
    "### 📈 Regression\n",
    "- Predicts **continuous values**.  \n",
    "- 🧾 **Example**: Predicting house prices based on features like size, location, and number of rooms.  \n",
    "\n",
    "### 🗂 Classification\n",
    "- Predicts **discrete categories or classes**.  \n",
    "- 🧾 **Example**: Determining whether an email is **spam** or **not spam**.  \n",
    "\n",
    "---\n",
    "\n",
    "## ▶ Optional: Quick Python Example\n",
    "```python\n",
    "# Simple supervised learning example: Linear Regression\n",
    "from sklearn.model_selection import train_test_split\n",
    "from sklearn.linear_model import LinearRegression\n",
    "from sklearn.datasets import make_regression\n",
    "\n",
    "# Generate a synthetic regression dataset\n",
    "X, y = make_regression(n_samples=100, n_features=1, noise=15, random_state=42)\n",
    "\n",
    "# Split into training and test sets\n",
    "X_train, X_test, y_train, y_test = train_test_split(X, y, test_size=0.2, random_state=42)\n",
    "\n",
    "# Train the model\n",
    "model = LinearRegression()\n",
    "model.fit(X_train, y_train)\n",
    "\n",
    "# Evaluate the model\n",
    "score = model.score(X_test, y_test)\n",
    "print(f\"R² Score: {score:.2f}\")\n"
   ]
  },
  {
   "cell_type": "markdown",
   "id": "4ec9c348",
   "metadata": {},
   "source": [
    "# 🧠 Overview of Supervised Learning\n",
    "\n",
    "Supervised learning is a **machine learning approach** where a model is trained on **labeled datasets**.  \n",
    "- The model **learns the relationship** between input features and known outputs.  \n",
    "- After training, it can **predict outcomes** for new, unseen data.  \n",
    "- This technique is widely used across multiple industries due to its **accuracy and versatility**.\n",
    "\n",
    "---\n",
    "\n",
    "## 🌐 Applications of Supervised Learning\n",
    "\n",
    "### 🏥 Healthcare\n",
    "- 📊 **Predicting patient outcomes** based on medical records and diagnostic data.  \n",
    "- 🧪 **Disease classification** (e.g., identifying cancerous vs. non-cancerous tissue).  \n",
    "\n",
    "### 💰 Finance\n",
    "- 🛡 **Fraud detection** in transactions.  \n",
    "- 💳 **Credit risk assessment** to determine loan eligibility.  \n",
    "\n",
    "### 🛒 Retail\n",
    "- 🛍 **Personalized product recommendations** based on customer behavior.  \n",
    "- 📈 **Sales forecasting** to optimize inventory and marketing strategies.  \n",
    "\n",
    "### 🚗 Autonomous Vehicles\n",
    "- 🖼 **Object detection** using image classification to identify pedestrians, vehicles, and obstacles.  \n",
    "- ➡ **Lane tracking** for maintaining safe and accurate navigation.  \n"
   ]
  },
  {
   "cell_type": "markdown",
   "id": "5bd27bc3",
   "metadata": {},
   "source": [
    "# 📊 Linear Regression\n",
    "\n",
    "Linear regression **assumes a linear relationship** between the **dependent variable (y)** and the **independent variable (x)**.\n",
    "\n",
    "---\n",
    "\n",
    "## ✏ Equation of a Line  \n",
    "The general form is:  \n",
    "\\[\n",
    "y = \\beta_0 + \\beta_1 x + \\epsilon\n",
    "\\]\n",
    "\n",
    "- **β₀ (Intercept)** – The value of **y** when **x = 0**.  \n",
    "- **β₁ (Slope)** – The rate of change in **y** for each unit increase in **x**.  \n",
    "- **ϵ (Error term)** – Represents the difference between the **observed** and **predicted** values.  \n",
    "\n",
    "---\n",
    "\n",
    "## 🧰 Steps in Linear Regression\n",
    "1. **Fit the Model** – Use the training data to estimate β₀ and β₁ by minimizing the error (least squares method).  \n",
    "2. **Predict** – Use the fitted model to make predictions for new **x** values.  \n",
    "3. **Evaluate** – Measure performance using metrics such as **R² Score**, **Mean Squared Error (MSE)**, or **Mean Absolute Error (MAE)**.  \n",
    "\n",
    "---\n",
    "\n",
    "## 🌐 Applications of Regression Models\n",
    "- 🛒 **Predicting Sales** – Estimate future revenue based on advertising spend or seasonal trends.  \n",
    "- 🏥 **Healthcare** – Predict patient recovery times or disease progression using clinical measurements.  \n",
    "- 🏠 **Real Estate** – Estimate property prices based on location, size, and amenities.  \n"
   ]
  },
  {
   "cell_type": "markdown",
   "id": "b4bccf6c",
   "metadata": {},
   "source": [
    "# ⚙️ Optimization with Gradient Descent\n",
    "\n",
    "Gradient Descent is an **optimization algorithm** used to minimize a cost function by iteratively updating model parameters.\n",
    "\n",
    "---\n",
    "\n",
    "## 📉 Gradient Descent Algorithm\n",
    "- Iteratively updates **β₀** and **β₁** to minimize the cost function.  \n",
    "- The algorithm adjusts parameters in the **direction of the negative gradient** (the steepest descent).\n",
    "\n",
    "---\n",
    "\n",
    "## 🧮 Update Rule  \n",
    "The parameter update for **βⱼ** is given by:  \n",
    "\\[\n",
    "\\beta_j := \\beta_j - \\alpha \\frac{\\partial J}{\\partial \\beta_j}\n",
    "\\]  \n",
    "\n",
    "Where:  \n",
    "- **βⱼ** – Model parameter being updated.  \n",
    "- **α (Learning rate)** – Controls the step size during each iteration.  \n",
    "- **∂J/∂βⱼ** – Partial derivative of the cost function with respect to βⱼ (the gradient).  \n",
    "\n",
    "---\n",
    "\n",
    "## 🏁 Convergence\n",
    "- The algorithm stops when **updates become very small** (close to zero),  \n",
    "  or when it **reaches a predefined number of iterations**.  \n",
    "- Proper selection of **α** is crucial:  \n",
    "  - Too large → May overshoot and fail to converge.  \n",
    "  - Too small → May converge very slowly.  \n",
    "\n",
    "---\n",
    "\n",
    "## 🌄 Visualizing Optimization\n",
    "Gradient descent can be **visualized as moving downhill** on the cost function landscape until reaching the **minimum point**.  \n",
    "- 🟢 **Starting point**: Initial parameter values (may be far from optimal).  \n",
    "- 🔻 **Steps downhill**: Gradual movement guided by the slope of the cost function.  \n",
    "- ⚫ **Minimum point**: Lowest value of the cost function where training error is minimized.  \n"
   ]
  },
  {
   "cell_type": "markdown",
   "id": "74b67d2b",
   "metadata": {},
   "source": [
    "# 📉 Cost Function and Optimization in Linear Regression\n",
    "\n",
    "In **linear regression**, we aim to find the **best-fitting line** that minimizes the difference between the predicted and actual values.  \n",
    "The **cost function** measures how well the model performs.\n",
    "\n",
    "---\n",
    "\n",
    "## 📊 Cost Function (Mean Squared Error – MSE)  \n",
    "The most common cost function for linear regression is the **Mean Squared Error (MSE)**:  \n",
    "\\[\n",
    "J(\\beta_0, \\beta_1) = \\frac{1}{2m} \\sum_{i=1}^{m} (h_\\beta(x^{(i)}) - y^{(i)})^2\n",
    "\\]  \n",
    "Where:  \n",
    "- **m** – Number of training examples.  \n",
    "- **h₍β₎(x⁽ⁱ⁾)** – Predicted value for input \\(x^{(i)}\\).  \n",
    "- **y⁽ⁱ⁾** – Actual output for input \\(x^{(i)}\\).  \n",
    "- The factor \\(\\frac{1}{2}\\) simplifies derivative calculations during optimization.\n",
    "\n",
    "---\n",
    "\n",
    "# ⚙️ Optimization with Gradient Descent\n",
    "\n",
    "Gradient Descent is an **optimization algorithm** used to **minimize the cost function** by iteratively updating the parameters.\n",
    "\n",
    "---\n",
    "\n",
    "## 📉 Gradient Descent Algorithm\n",
    "- Iteratively updates **β₀** and **β₁** to minimize the cost function.  \n",
    "- Moves parameters in the **direction of the negative gradient** (steepest descent).  \n",
    "\n",
    "---\n",
    "\n",
    "## 🧮 Update Rule  \n",
    "The parameter update for **βⱼ** is:  \n",
    "\\[\n",
    "\\beta_j := \\beta_j - \\alpha \\frac{\\partial J}{\\partial \\beta_j}\n",
    "\\]  \n",
    "\n",
    "Where:  \n",
    "- **βⱼ** – Model parameter being updated.  \n",
    "- **α (Learning rate)** – Controls the step size.  \n",
    "- **∂J/∂βⱼ** – Gradient of the cost function with respect to βⱼ.\n",
    "\n",
    "---\n",
    "\n",
    "## 🏁 Convergence\n",
    "- The algorithm stops when **updates become very small** (close to zero)  \n",
    "  or when a **predefined number of iterations** is reached.  \n",
    "- Choosing **α** carefully is critical:  \n",
    "  - Too large → May overshoot and diverge.  \n",
    "  - Too small → Slow convergence.  \n",
    "\n",
    "---\n",
    "\n",
    "## 🌄 Visualizing Optimization\n",
    "Gradient Descent can be **visualized as moving downhill** on the cost function landscape to reach the **minimum point**:  \n",
    "- 🟢 **Starting point**: Initial parameter values.  \n",
    "- 🔻 **Steps downhill**: Iterative updates guided by the gradient.  \n",
    "- ⚫ **Minimum point**: Lowest cost, representing the optimal parameters.  \n"
   ]
  },
  {
   "cell_type": "code",
   "execution_count": 2,
   "id": "7df7f115",
   "metadata": {},
   "outputs": [],
   "source": [
    "from sklearn.model_selection import train_test_split\n",
    "import numpy as np\n",
    "import pandas as pd\n",
    "import matplotlib.pyplot as plt\n"
   ]
  },
  {
   "cell_type": "code",
   "execution_count": 9,
   "id": "1c4999b8",
   "metadata": {},
   "outputs": [],
   "source": [
    "\n",
    "X = np.arange(0, 100, 0.1).reshape(-1,1) \n",
    "y = 2 * X + 1                           \n",
    "m = len(X)\n",
    "\n",
    "\n",
    "X_b = np.c_[np.ones((m,1)), X]  "
   ]
  },
  {
   "cell_type": "code",
   "execution_count": 11,
   "id": "f13f43ab",
   "metadata": {},
   "outputs": [
    {
     "data": {
      "text/plain": [
       "array([[ 1. ,  0. ],\n",
       "       [ 1. ,  0.1],\n",
       "       [ 1. ,  0.2],\n",
       "       ...,\n",
       "       [ 1. , 99.7],\n",
       "       [ 1. , 99.8],\n",
       "       [ 1. , 99.9]])"
      ]
     },
     "execution_count": 11,
     "metadata": {},
     "output_type": "execute_result"
    }
   ],
   "source": [
    "X_b"
   ]
  },
  {
   "cell_type": "code",
   "execution_count": 10,
   "id": "dd4f1f6a",
   "metadata": {},
   "outputs": [
    {
     "name": "stdout",
     "output_type": "stream",
     "text": [
      "Theta: [[0.05420973]\n",
      " [2.01419502]]\n"
     ]
    }
   ],
   "source": [
    "def linearRegression(X, y, theta, learning_rate, iterations):\n",
    "    m = len(y)\n",
    "    for i in range(iterations):\n",
    "        gradients = (1/m) * X.T.dot(X.dot(theta) - y)\n",
    "        theta = theta - learning_rate * gradients\n",
    "    return theta\n",
    "\n",
    "\n",
    "theta_initial = np.zeros((2,1))\n",
    "learning_rate = 0.0001\n",
    "iterations = 1000\n",
    "\n",
    "theta_final = linearRegression(X_b, y, theta_initial, learning_rate, iterations)\n",
    "print(\"Theta:\", theta_final)\n"
   ]
  },
  {
   "cell_type": "code",
   "execution_count": 14,
   "id": "42b1bc09",
   "metadata": {},
   "outputs": [
    {
     "name": "stdout",
     "output_type": "stream",
     "text": [
      "Slope:  2.0000000000000004\n",
      "Intercept:  0.9999999999999716\n"
     ]
    }
   ],
   "source": [
    "from sklearn.model_selection import train_test_split\n",
    "from sklearn.linear_model import LinearRegression\n",
    "from sklearn.metrics import mean_squared_error, r2_score\n",
    "\n",
    "# Data\n",
    "X_train, X_test, y_train, y_test = train_test_split(X, y, test_size=0.2, random_state=42)\n",
    "\n",
    "# Fit\n",
    "model = LinearRegression()\n",
    "model.fit(X_train,y_train)\n",
    "\n",
    "y_pred = model.predict(X_test)\n",
    "\n",
    "error = mean_squared_error(y_pred, y_test)\n",
    "\n",
    "print(\"Slope: \", model.coef_[0][0])\n",
    "print(\"Intercept: \", model.intercept_[0])"
   ]
  },
  {
   "cell_type": "code",
   "execution_count": 15,
   "id": "dfbae7b8",
   "metadata": {},
   "outputs": [
    {
     "name": "stdout",
     "output_type": "stream",
     "text": [
      "2.090570145687519e-28\n"
     ]
    }
   ],
   "source": [
    "print(error)"
   ]
  },
  {
   "cell_type": "code",
   "execution_count": 17,
   "id": "ca9e1fe5",
   "metadata": {},
   "outputs": [
    {
     "data": {
      "image/png": "[encoded data removed]",
      "text/plain": [
       "<Figure size 640x480 with 1 Axes>"
      ]
     },
     "metadata": {},
     "output_type": "display_data"
    }
   ],
   "source": [
    "plt.scatter(X_test, y_test, color = \"blue\",label = \"test\")\n",
    "plt.plot(X_test, y_pred, color = \"red\",label = \"pred\")\n",
    "plt.show()"
   ]
  },
  {
   "cell_type": "code",
   "execution_count": null,
   "id": "49691339",
   "metadata": {},
   "outputs": [],
   "source": []
  }
 ],
 "metadata": {
  "kernelspec": {
   "display_name": "base",
   "language": "python",
   "name": "python3"
  },
  "language_info": {
   "codemirror_mode": {
    "name": "ipython",
    "version": 3
   },
   "file_extension": ".py",
   "mimetype": "text/x-python",
   "name": "python",
   "nbconvert_exporter": "python",
   "pygments_lexer": "ipython3",
   "version": "3.12.7"
  }
 },
 "nbformat": 4,
 "nbformat_minor": 5
}
